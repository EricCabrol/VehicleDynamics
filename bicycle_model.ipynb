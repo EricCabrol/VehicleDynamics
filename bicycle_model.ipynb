{
 "cells": [
  {
   "cell_type": "markdown",
   "id": "textile-tongue",
   "metadata": {},
   "source": [
    "# Single track model\n",
    "\n",
    "\n",
    "## Introduction\n",
    "\n",
    "The single-track model also called bicycle model is a simple yet useful representation of the behaviour of a (4-wheeled) vehicle. Fundamental quantities used to assess handling both in steady-state and transient conditions can be derived from this model, which is covered by most authors of vehicle dynamics.  \n",
    "I particularly appreciate the clarity of the dedicated chapter in the book  [Vehicle Handling Dynamics](https://www.elsevier.com/books/vehicle-handling-dynamics/abe/978-0-08-100390-9) by Masato Abe.\n",
    "\n",
    "But don't forget that it is a very simplified representation of a vehicle. As Massimo Guiggani writes in [The Science of Vehicle Dynamics](https://www.springer.com/gp/book/9789401776875) :\n",
    "> Vehicle engineers should be well aware of the steps taken to simplify the model, and hence realize that in some cases the single track model may miss some crucial phenomena, and the double track model should be used instead\n",
    "\n",
    "\n",
    "You can find great information online in the course given by Pierre Duysinx at University of Liège (Belgium), especially in [MECA0525](http://www.ingveh.ulg.ac.be/index.php?page=MECA0525).  \n",
    "The most useful pdf to understand this single track model is \n",
    "[Vehicle dynamics 1](http://www.ingveh.ulg.ac.be/uploads/education/MECA0525/11_MECA0525_VEHDYN1_SSTURN_2020-2021.pdf), in which you can find some more details than those given in this notebook.  \n",
    "\n",
    "\n",
    "\n",
    "## Symbols\n",
    "\n",
    "```\n",
    "L     wheelbase (m)\n",
    "a     distance between the center of gravity G and the front axle (m)\n",
    "b     distance between the center of gravity G and the rear axle (m)\n",
    "m     mass of the vehicle (kg)\n",
    "osr   overall steering ratio\n",
    "R     radius of the turn (m)\n",
    "V     tangent velocity (m/s)\n",
    "ay    lateral acceleration (m/s^2)\n",
    "δ     steering angle at the wheel (rad)\n",
    "α     slip angle of the wheel (rad)\n",
    "β     slip angle of the vehicle (rad)\n",
    "```\n",
    "\n",
    "Caution : in the above mentioned course P. Duysinx uses the variables `b` and `c` for the distances between the CoG and the axles. In this notebook I chose `a` and `b` instead, which is a more standard convention in reference books.\n",
    "\n",
    "\n",
    "\n",
    "## Steady-state turning\n",
    "\n",
    "\n",
    "### Low lateral acceleration\n",
    "\n",
    "![bicycle_model_01.png](./images/bicycle_model_01.png)\n",
    "\n",
    "The steering angle at very low lateral acceleration is called Ackermann angle `δ_ack` (french readers may use Jeantaud instead of Ackermann). We have from simple kinematic conditions :\n",
    "```\n",
    "tan(δ_ack) = L/R\n",
    "```\n",
    "and using the approximation for small angles it is often written\n",
    "```\n",
    "δ_ack = L/R\n",
    "```\n"
   ]
  },
  {
   "cell_type": "code",
   "execution_count": 129,
   "id": "israeli-bandwidth",
   "metadata": {},
   "outputs": [
    {
     "name": "stdout",
     "output_type": "stream",
     "text": [
      "\n",
      "Lateral acceleration                     = 0.31 m/s^2\n",
      "Ackermann angle at the wheel             = 0.035 rad.\n",
      "Angle at the steering wheel              = 30.1 deg.\n"
     ]
    }
   ],
   "source": [
    "%matplotlib inline\n",
    "import matplotlib.pyplot as plt\n",
    "import math\n",
    "import numpy as np\n",
    "\n",
    "# Vehicle data\n",
    "a = 1.2  # m\n",
    "b = 1.6  # m\n",
    "m = 1500 # kg\n",
    "osr = 15\n",
    "L = a + b  # m\n",
    "\n",
    "# Manoeuver data\n",
    "R = 80   # m\n",
    "V = 5    # m/s\n",
    "\n",
    "rad2deg = 180/math.pi\n",
    "g = 9.81 # m/s^2\n",
    "\n",
    "ay = V**2 / R\n",
    "δ_ack = math.atan(L/R)\n",
    "\n",
    "# Caution : f-string  used here (only with Python 3.6+ - Switch to the older format function if required)\n",
    "\n",
    "print()\n",
    "print(f\"{'Lateral acceleration':40} = {ay:.2f} m/s^2\")\n",
    "print(f\"{'Ackermann angle at the wheel':40} = {δ_ack:.3f} rad.\")\n",
    "print(f\"{'Angle at the steering wheel':40} = {δ_ack*osr*rad2deg:.1f} deg.\")\n"
   ]
  },
  {
   "cell_type": "markdown",
   "id": "positive-geneva",
   "metadata": {},
   "source": [
    "### Increasing lateral acceleration\n",
    "\n",
    "At higher lateral acceleration, a slip angle α appears between the plane of the wheel and its velocity vector.  \n",
    "\n",
    "![bicycle_model_02.png](./images/bicycle_model_02.png)\n",
    "\n",
    "The slip angle is related to the lateral force due to the acceleration and to the cornering stiffness of the tire (which depends on the vertical load, the camber angle, the tire pressure, etc ...). Most of the time the front and rear slip angles won't be equal, and the difference between them is a measure of the understeering or oversteering behavior of the vehicle. \n",
    "\n",
    "Let's show this, starting with the following notations :\n",
    "```\n",
    "αf     slip angle of the front wheel (rad)\n",
    "αr     slip angle of the rear wheel (rad)\n",
    "mf     mass on the front axle (kg)\n",
    "mr     mass on the rear axle (kg)\n",
    "Fyf    lateral force on the front tire (N)\n",
    "Fyr    lateral force on the rear tire (N)\n",
    "Cf     cornering stiffness of the front axle (N/rad)\n",
    "Cr     cornering stiffness of the rear axle (N/rad)\n",
    "```\n",
    "If the only data you have is the cornering stiffness of one tire, you will need to multiply these values by 2 to get `Cf` and `Cr` values, since the bicycle model uses the assumption that the properties of the tires of an axle are aggregated at its \"center\".  \n",
    "But don't forget that in real life there other elements than tires contributing to the steering flexibility. "
   ]
  },
  {
   "cell_type": "code",
   "execution_count": 130,
   "id": "dressed-clause",
   "metadata": {},
   "outputs": [
    {
     "name": "stdout",
     "output_type": "stream",
     "text": [
      "\n",
      "Lateral acceleration                     = 5.00 m/s^2\n",
      "Mass on the front axle                   = 857.1 kg\n",
      "Mass on the rear axle                    = 642.9 kg\n",
      "Lateral force on the front axle          = 4286 N\n",
      "Lateral force on the rear axle           = 3214 N\n",
      "Slip angle at the front axle             = 0.036 rad\n",
      "Slip angle at the rear axle              = 0.018 rad\n"
     ]
    }
   ],
   "source": [
    "Cf = 120000 # N/rad\n",
    "Cr = 180000 # N/rad\n",
    "\n",
    "# From the static balance we have \n",
    "mf = m * b / L\n",
    "mr = m * a / L\n",
    "\n",
    "# Let's increase the speed to reach a non-negligible lateral acceleration\n",
    "V = 20 # m/s\n",
    "# Recompute\n",
    "ay = V**2 / R\n",
    "# So\n",
    "Fyf = mf * ay\n",
    "Fyr = mr * ay\n",
    "\n",
    "# The slip angles at the front and rear axle are \n",
    "αf = Fyf / Cf\n",
    "αr = Fyr / Cr\n",
    "\n",
    "print()\n",
    "print(f\"{'Lateral acceleration':40} = {ay:.2f} m/s^2\")\n",
    "print(f\"{'Mass on the front axle':40} = {mf:.1f} kg\")\n",
    "print(f\"{'Mass on the rear axle':40} = {mr:.1f} kg\")\n",
    "print(f\"{'Lateral force on the front axle':40} = {Fyf:.0f} N\")\n",
    "print(f\"{'Lateral force on the rear axle':40} = {Fyr:.0f} N\")\n",
    "print(f\"{'Slip angle at the front axle':40} = {αf:.3f} rad\")\n",
    "print(f\"{'Slip angle at the rear axle':40} = {αr:.3f} rad\")"
   ]
  },
  {
   "cell_type": "markdown",
   "id": "demanding-duration",
   "metadata": {},
   "source": [
    "### Introducing the understeer gradient\n",
    "\n",
    "With a bit of trigonometry it can be shown that the steering angle becomes\n",
    "\n",
    "$$ \\delta = \\arctan(\\frac{L}{R}) + \\alpha_f -\\alpha_r $$\n",
    "\n",
    "or \n",
    "\n",
    "$$ \\delta = \\delta_{ack} + \\alpha_f -\\alpha_r $$\n",
    "\n",
    "with the Ackermann angle already introduced.  \n",
    "\n",
    "Caution : depending on the conventions some authors may use opposite signs before $\\alpha_f$ and $\\alpha_r$. It is for example the case in [Vehicle Dynamics, Stability, and Control](https://www.taylorfrancis.com/books/mono/10.1201/b13767/vehicle-dynamics-stability-control-dean-karnopp) by Dean Karnopp. \n",
    "\n",
    "Let's rewrite the last equation to see the velocity dependence :\n",
    "\n",
    "$$ \\delta = \\delta_{ack} + (\\frac{m_f}{C_f} - \\frac{m_r}{C_r}) \\cdot \\frac{V^2}{R} $$\n",
    "\n",
    "We then define the understeer gradient (USG)\n",
    "\n",
    "$$ K = (\\frac{m_f}{C_f} - \\frac{m_r}{C_r}) $$\n",
    "\n",
    "so that\n",
    "\n",
    "$$ \\delta = \\delta_{ack} + K \\cdot \\frac{V^2}{R} $$\n",
    "\n",
    "We see that for a given technical definition of the vehicle, K is a constant. It is the amount of steering angle you need to add/remove for a given increase in lateral acceleration.\n",
    "\n",
    "- If K > 0, the vehicle understeers : you need to add steering angle when the lateral acceleration increases\n",
    "- If K < 0, the vehicle oversteers : you need to remove steering angle when the lateral acceleration increases\n",
    "\n",
    "Passenger vehicles (most vehicles actually) are designed to understeer (for stability reasons, that we will see later) : the faster you drive in a turn, the more you need to steer.\n",
    "\n",
    "K can be expressed in degrees by m/s^2, or in degrees by g.  \n",
    "It can also be expressed at the wheel, or at the steering wheel.\n"
   ]
  },
  {
   "cell_type": "code",
   "execution_count": 137,
   "id": "substantial-material",
   "metadata": {},
   "outputs": [
    {
     "name": "stdout",
     "output_type": "stream",
     "text": [
      "\n",
      "Understeer gradient at the wheel         = 0.20 °/(m/s^2)\n",
      "                                         = 2.01 °/g\n",
      "\n",
      "Understeer gradient at the steering wheel     = 3.07 °/(m/s^2)\n",
      "                                              = 30.11 °/g\n"
     ]
    }
   ],
   "source": [
    "K = mf/Cf - mr/Cr\n",
    "\n",
    "print()\n",
    "print(f\"{'Understeer gradient at the wheel':40} = {K * rad2deg :.2f} °/(m/s^2)\")\n",
    "print(f\"{'':40} = {K * rad2deg * g :.2f} °/g\")\n",
    "print()\n",
    "print(f\"{'Understeer gradient at the steering wheel':45} = {K * rad2deg * osr :.2f} °/(m/s^2)\")\n",
    "print(f\"{'':45} = {K * rad2deg * g * osr :.2f} °/g\")\n",
    "\n"
   ]
  },
  {
   "cell_type": "markdown",
   "id": "extended-continuity",
   "metadata": {},
   "source": [
    "### Characteristic speed\n",
    "\n",
    "The characteristic speed $ V_{ch} $ is the speed that requires a steering angle that is twice the Ackermann angle. We then have \n",
    "\n",
    "$$ \\frac{V_{ch}^2}{R} = \\frac{L}{R} $$\n",
    "\n",
    "So \n",
    "\n",
    "$$ V_{ch} = \\sqrt{\\frac{L}{K}} $$\n",
    "\n",
    "We see that $ V_{ch} $ is, like K, dependent only on the vehicle characteristics.  \n",
    "This quantity is used by ESC suppliers to tune their software for a given car (did I mention that ESC logic is based on a bicycle model ?)  \n",
    "\n",
    "If the vehicle oversteers, in which case $ K<0 $, we need to write $ \\sqrt{\\frac{L}{\\mid K \\mid}} $ which is called *critical speed*. Above this speed the vehicle becomes unstable. "
   ]
  },
  {
   "cell_type": "code",
   "execution_count": 132,
   "id": "detected-supplement",
   "metadata": {},
   "outputs": [
    {
     "name": "stdout",
     "output_type": "stream",
     "text": [
      "\n",
      "Characteristic speed                     = 28.0 m/s\n",
      "                                         = 100.8 km/h\n"
     ]
    }
   ],
   "source": [
    "print()\n",
    "if K>=0:\n",
    "    print(f\"{'Characteristic speed':40} = {math.sqrt(L/K):.1f} m/s\")\n",
    "    print(f\"{'':40} = {math.sqrt(L/K) * 3.6:.1f} km/h\")\n",
    "else:\n",
    "    print(f\"{'Critical speed':40} = {math.sqrt(L/abs(K)):.1f} m/s\")\n",
    "    print(f\"{'':40} = {math.sqrt(L/abs(K)) * 3.6:.1f} km/h\")"
   ]
  },
  {
   "cell_type": "markdown",
   "id": "complimentary-cisco",
   "metadata": {},
   "source": [
    "### Lateral acceleration gain\n",
    "\n",
    "Lateral acceleration gain is defined by $$ \\frac{a_y}{\\delta} $$\n",
    "which can be rewritten\n",
    "$$ \\frac{\\frac{V^2}{R}}{\\frac{L}{R}+K \\cdot \\frac{V^2}{R}} $$\n",
    "or, dividing by $R\\cdot L$\n",
    "$$ \\frac{\\frac{V^2}{L}}{1 + K \\cdot \\frac{V^2}{L}} $$\n",
    "\n",
    "This value is sometimes expressed for 100° at the steering wheel."
   ]
  },
  {
   "cell_type": "code",
   "execution_count": 133,
   "id": "monetary-grounds",
   "metadata": {},
   "outputs": [
    {
     "name": "stdout",
     "output_type": "stream",
     "text": [
      "\n",
      "Lateral acceleration gain                = 1.65 (m/s^2)/°\n",
      "                                         = 0.168 g/°\n",
      "\n",
      "Lateral acceleration for 100° at the SW  = 1.122 g\n"
     ]
    },
    {
     "data": {
      "image/png": "[encoded data removed]",
      "text/plain": [
       "<Figure size 432x288 with 1 Axes>"
      ]
     },
     "metadata": {
      "needs_background": "light"
     },
     "output_type": "display_data"
    }
   ],
   "source": [
    "lateral_accel_gain = (V**2/L) / (1 + K*V**2/L)\n",
    "print()\n",
    "print(f\"{'Lateral acceleration gain':40} = {lateral_accel_gain / rad2deg :.2f} (m/s^2)/°\")\n",
    "print(f\"{'':40} = {lateral_accel_gain / rad2deg / g :.3f} g/°\")\n",
    "print()\n",
    "print(f\"{'Lateral acceleration for 100° at the SW':40} = {lateral_accel_gain / rad2deg / g * 100 / osr :.3f} g\")\n",
    "\n",
    "\n",
    "# Let's plot this gain variation with speed\n",
    "V1 = np.linspace(10, 40, 100)\n",
    "plt.plot(V1, (V1**2/L) / (1 + K*V1**2/L) / rad2deg / g * 100 / osr, label='ay for 100° SW');\n",
    "plt.legend();\n",
    "plt.xlabel('V (m/s)');\n",
    "plt.ylabel('ay (g)');\n"
   ]
  },
  {
   "cell_type": "markdown",
   "id": "crucial-kinase",
   "metadata": {},
   "source": [
    "### Yaw rate gain \n",
    "\n",
    "Yaw rate (aka yaw velocity) is defined by $ r = \\frac{V}{R} $ (for readers used to see the yaw angle denoted $ \\psi $, the yaw rate is obviously $ \\dot \\psi $)\n",
    "\n",
    "We can show that the yaw rate gain, with a unit of 1/s, is $$ \\frac{r}{\\delta} = \\frac{\\frac{V}{L}}{1 + K \\cdot \\frac{V^2}{L}} $$"
   ]
  },
  {
   "cell_type": "code",
   "execution_count": 134,
   "id": "brief-dividend",
   "metadata": {},
   "outputs": [
    {
     "name": "stdout",
     "output_type": "stream",
     "text": [
      "\n",
      "Yaw rate gain                            = 4.73 s^-1\n",
      "\n"
     ]
    },
    {
     "data": {
      "image/png": "[encoded data removed]",
      "text/plain": [
       "<Figure size 432x288 with 1 Axes>"
      ]
     },
     "metadata": {
      "needs_background": "light"
     },
     "output_type": "display_data"
    }
   ],
   "source": [
    "yaw_rate_gain = (V/L) / (1 + K*V**2/L)\n",
    "print()\n",
    "print(f\"{'Yaw rate gain':40} = {yaw_rate_gain :.2f} s^-1\")\n",
    "print()\n",
    "\n",
    "# Let's plot this gain variation with speed\n",
    "V1 = np.linspace(10, 40, 100)\n",
    "plt.plot(V1, (V1/L) / (1 + K*V1**2/L), label='yaw rate gain');\n",
    "plt.legend();\n",
    "plt.xlabel('V (m/s)');\n",
    "plt.ylabel(r'$r\\ /\\ \\delta$');\n"
   ]
  },
  {
   "cell_type": "markdown",
   "id": "offshore-generic",
   "metadata": {},
   "source": [
    "We can see that the yaw rate gain goes through a maximum. It can be shown that **the speed for which the gain is maximum is the characteristic speed** defined above. \n"
   ]
  },
  {
   "cell_type": "markdown",
   "id": "persistent-theory",
   "metadata": {},
   "source": [
    "### Static margin\n",
    "\n",
    "We first define the neutral steer point as the point where a lateral perturbation force won't induce any yaw motion.\n",
    "\n",
    "![bicycle_model_03.png](./images/bicycle_model_03.png)\n",
    "\n",
    "By writing the equlibrium of yaw moments with respect to the center of gravity we can compute the distance `e` \n",
    "\n",
    "$$ e = \\frac{a \\cdot C_f - b \\cdot C_r}{C_f + C_r} $$\n",
    "\n",
    "The static margin is then computed as being equal to $ \\frac{e}{L} $\n",
    "\n",
    "It is negative when the neutral steer point is located at the rear, and means the vehicle understeers.  \n",
    "Reminder : static margin < 0 $\\leftrightarrow $ understeer gradient > 0"
   ]
  },
  {
   "cell_type": "code",
   "execution_count": 135,
   "id": "finite-increase",
   "metadata": {},
   "outputs": [
    {
     "name": "stdout",
     "output_type": "stream",
     "text": [
      "\n",
      "Static margin                            = -17.14 %\n"
     ]
    }
   ],
   "source": [
    "distance_CoG_to_neutral_steer_point = (a*Cf-b*Cr)/(Cf+Cr)\n",
    "print()\n",
    "print(f\"{'Static margin':40} = {distance_CoG_to_neutral_steer_point/L*100 :.2f} %\")\n"
   ]
  },
  {
   "cell_type": "code",
   "execution_count": null,
   "id": "reserved-sweden",
   "metadata": {},
   "outputs": [],
   "source": []
  }
 ],
 "metadata": {
  "kernelspec": {
   "display_name": "Python 3.7.7 64-bit",
   "language": "python",
   "name": "python37764bitbbd15436faaa4c99bc9d20b2efce7691"
  },
  "language_info": {
   "codemirror_mode": {
    "name": "ipython",
    "version": 3
   },
   "file_extension": ".py",
   "mimetype": "text/x-python",
   "name": "python",
   "nbconvert_exporter": "python",
   "pygments_lexer": "ipython3",
   "version": "3.7.7"
  }
 },
 "nbformat": 4,
 "nbformat_minor": 5
}
